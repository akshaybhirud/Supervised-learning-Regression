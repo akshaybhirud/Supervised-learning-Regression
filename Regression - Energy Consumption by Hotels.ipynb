{
 "cells": [
  {
   "cell_type": "code",
   "execution_count": 1,
   "metadata": {
    "collapsed": true
   },
   "outputs": [],
   "source": [
    "import numpy as np\n",
    "import pandas as pd\n",
    "import matplotlib.pyplot as plt\n",
    "import seaborn as sns\n",
    "import sklearn as sklearn"
   ]
  },
  {
   "cell_type": "code",
   "execution_count": 33,
   "metadata": {
    "collapsed": true
   },
   "outputs": [],
   "source": [
    "energy_consumption = pd.read_csv(\"C:/Users/GL-FF-CR1/Desktop/hotel_energy.csv\")"
   ]
  },
  {
   "cell_type": "code",
   "execution_count": 34,
   "metadata": {},
   "outputs": [
    {
     "data": {
      "text/html": [
       "<div>\n",
       "<style scoped>\n",
       "    .dataframe tbody tr th:only-of-type {\n",
       "        vertical-align: middle;\n",
       "    }\n",
       "\n",
       "    .dataframe tbody tr th {\n",
       "        vertical-align: top;\n",
       "    }\n",
       "\n",
       "    .dataframe thead th {\n",
       "        text-align: right;\n",
       "    }\n",
       "</style>\n",
       "<table border=\"1\" class=\"dataframe\">\n",
       "  <thead>\n",
       "    <tr style=\"text-align: right;\">\n",
       "      <th></th>\n",
       "      <th>hotel</th>\n",
       "      <th>enrgcons</th>\n",
       "      <th>area</th>\n",
       "      <th>age</th>\n",
       "      <th>numrooms</th>\n",
       "      <th>occrate</th>\n",
       "      <th>effrooms</th>\n",
       "    </tr>\n",
       "  </thead>\n",
       "  <tbody>\n",
       "    <tr>\n",
       "      <th>0</th>\n",
       "      <td>1</td>\n",
       "      <td>19,53,916</td>\n",
       "      <td>43,000</td>\n",
       "      <td>6</td>\n",
       "      <td>420</td>\n",
       "      <td>32.60%</td>\n",
       "      <td>136.92</td>\n",
       "    </tr>\n",
       "    <tr>\n",
       "      <th>1</th>\n",
       "      <td>2</td>\n",
       "      <td>10,45,555</td>\n",
       "      <td>19,979</td>\n",
       "      <td>16</td>\n",
       "      <td>215</td>\n",
       "      <td>63.00%</td>\n",
       "      <td>135.45</td>\n",
       "    </tr>\n",
       "    <tr>\n",
       "      <th>2</th>\n",
       "      <td>3</td>\n",
       "      <td>42,45,313</td>\n",
       "      <td>46,529</td>\n",
       "      <td>7</td>\n",
       "      <td>273</td>\n",
       "      <td>65.05%</td>\n",
       "      <td>177.59</td>\n",
       "    </tr>\n",
       "    <tr>\n",
       "      <th>3</th>\n",
       "      <td>4</td>\n",
       "      <td>21,26,199</td>\n",
       "      <td>20,962</td>\n",
       "      <td>6</td>\n",
       "      <td>222</td>\n",
       "      <td>70.50%</td>\n",
       "      <td>156.51</td>\n",
       "    </tr>\n",
       "    <tr>\n",
       "      <th>4</th>\n",
       "      <td>5</td>\n",
       "      <td>27,85,958</td>\n",
       "      <td>24,212</td>\n",
       "      <td>5</td>\n",
       "      <td>474</td>\n",
       "      <td>69.70%</td>\n",
       "      <td>330.38</td>\n",
       "    </tr>\n",
       "  </tbody>\n",
       "</table>\n",
       "</div>"
      ],
      "text/plain": [
       "   hotel   enrgcons    area  age  numrooms occrate  effrooms\n",
       "0      1  19,53,916  43,000    6       420  32.60%    136.92\n",
       "1      2  10,45,555  19,979   16       215  63.00%    135.45\n",
       "2      3  42,45,313  46,529    7       273  65.05%    177.59\n",
       "3      4  21,26,199  20,962    6       222  70.50%    156.51\n",
       "4      5  27,85,958  24,212    5       474  69.70%    330.38"
      ]
     },
     "execution_count": 34,
     "metadata": {},
     "output_type": "execute_result"
    }
   ],
   "source": [
    "energy_consumption.head()"
   ]
  },
  {
   "cell_type": "code",
   "execution_count": 35,
   "metadata": {
    "collapsed": true
   },
   "outputs": [],
   "source": [
    "energy_consumption = energy_consumption.iloc[:,1:]"
   ]
  },
  {
   "cell_type": "code",
   "execution_count": 36,
   "metadata": {},
   "outputs": [
    {
     "data": {
      "text/html": [
       "<div>\n",
       "<style scoped>\n",
       "    .dataframe tbody tr th:only-of-type {\n",
       "        vertical-align: middle;\n",
       "    }\n",
       "\n",
       "    .dataframe tbody tr th {\n",
       "        vertical-align: top;\n",
       "    }\n",
       "\n",
       "    .dataframe thead th {\n",
       "        text-align: right;\n",
       "    }\n",
       "</style>\n",
       "<table border=\"1\" class=\"dataframe\">\n",
       "  <thead>\n",
       "    <tr style=\"text-align: right;\">\n",
       "      <th></th>\n",
       "      <th>age</th>\n",
       "      <th>numrooms</th>\n",
       "      <th>effrooms</th>\n",
       "    </tr>\n",
       "  </thead>\n",
       "  <tbody>\n",
       "    <tr>\n",
       "      <th>count</th>\n",
       "      <td>19.000000</td>\n",
       "      <td>19.000000</td>\n",
       "      <td>19.000000</td>\n",
       "    </tr>\n",
       "    <tr>\n",
       "      <th>mean</th>\n",
       "      <td>7.789474</td>\n",
       "      <td>376.789474</td>\n",
       "      <td>229.052632</td>\n",
       "    </tr>\n",
       "    <tr>\n",
       "      <th>std</th>\n",
       "      <td>3.881279</td>\n",
       "      <td>148.210278</td>\n",
       "      <td>94.144893</td>\n",
       "    </tr>\n",
       "    <tr>\n",
       "      <th>min</th>\n",
       "      <td>3.000000</td>\n",
       "      <td>197.000000</td>\n",
       "      <td>104.020000</td>\n",
       "    </tr>\n",
       "    <tr>\n",
       "      <th>25%</th>\n",
       "      <td>5.000000</td>\n",
       "      <td>247.500000</td>\n",
       "      <td>157.880000</td>\n",
       "    </tr>\n",
       "    <tr>\n",
       "      <th>50%</th>\n",
       "      <td>6.000000</td>\n",
       "      <td>359.000000</td>\n",
       "      <td>179.500000</td>\n",
       "    </tr>\n",
       "    <tr>\n",
       "      <th>75%</th>\n",
       "      <td>11.000000</td>\n",
       "      <td>464.500000</td>\n",
       "      <td>308.325000</td>\n",
       "    </tr>\n",
       "    <tr>\n",
       "      <th>max</th>\n",
       "      <td>16.000000</td>\n",
       "      <td>787.000000</td>\n",
       "      <td>391.370000</td>\n",
       "    </tr>\n",
       "  </tbody>\n",
       "</table>\n",
       "</div>"
      ],
      "text/plain": [
       "             age    numrooms    effrooms\n",
       "count  19.000000   19.000000   19.000000\n",
       "mean    7.789474  376.789474  229.052632\n",
       "std     3.881279  148.210278   94.144893\n",
       "min     3.000000  197.000000  104.020000\n",
       "25%     5.000000  247.500000  157.880000\n",
       "50%     6.000000  359.000000  179.500000\n",
       "75%    11.000000  464.500000  308.325000\n",
       "max    16.000000  787.000000  391.370000"
      ]
     },
     "execution_count": 36,
     "metadata": {},
     "output_type": "execute_result"
    }
   ],
   "source": [
    "energy_consumption.describe()"
   ]
  },
  {
   "cell_type": "code",
   "execution_count": 37,
   "metadata": {},
   "outputs": [
    {
     "data": {
      "text/plain": [
       "enrgcons     object\n",
       "area         object\n",
       "age           int64\n",
       "numrooms      int64\n",
       "occrate      object\n",
       "effrooms    float64\n",
       "dtype: object"
      ]
     },
     "execution_count": 37,
     "metadata": {},
     "output_type": "execute_result"
    }
   ],
   "source": [
    "energy_consumption.dtypes"
   ]
  },
  {
   "cell_type": "code",
   "execution_count": 38,
   "metadata": {
    "collapsed": true
   },
   "outputs": [],
   "source": [
    "#Replacing string ',' to float\n",
    "energy_consumption['enrgcons']=energy_consumption['enrgcons'].astype(str)\n",
    "energy_consumption['enrgcons']=energy_consumption['enrgcons'].str.replace(',','')\n",
    "\n",
    "energy_consumption['enrgcons']=energy_consumption['enrgcons'].astype('float')"
   ]
  },
  {
   "cell_type": "code",
   "execution_count": 39,
   "metadata": {
    "collapsed": true
   },
   "outputs": [],
   "source": [
    "energy_consumption['area']=energy_consumption['area'].astype(str)\n",
    "energy_consumption['area']=energy_consumption['area'].str.replace(',','')\n",
    "\n",
    "energy_consumption['area']=energy_consumption['area'].astype('float')"
   ]
  },
  {
   "cell_type": "code",
   "execution_count": 40,
   "metadata": {
    "collapsed": true
   },
   "outputs": [],
   "source": [
    "energy_consumption['occrate']=energy_consumption['occrate'].astype(str)\n",
    "energy_consumption['occrate']=energy_consumption['occrate'].str.replace('%','')\n",
    "energy_consumption['occrate'].astype('float')\n",
    "\n",
    "energy_consumption['occrate']=energy_consumption['occrate'].astype('float')"
   ]
  },
  {
   "cell_type": "code",
   "execution_count": 41,
   "metadata": {},
   "outputs": [
    {
     "data": {
      "text/html": [
       "<div>\n",
       "<style scoped>\n",
       "    .dataframe tbody tr th:only-of-type {\n",
       "        vertical-align: middle;\n",
       "    }\n",
       "\n",
       "    .dataframe tbody tr th {\n",
       "        vertical-align: top;\n",
       "    }\n",
       "\n",
       "    .dataframe thead th {\n",
       "        text-align: right;\n",
       "    }\n",
       "</style>\n",
       "<table border=\"1\" class=\"dataframe\">\n",
       "  <thead>\n",
       "    <tr style=\"text-align: right;\">\n",
       "      <th></th>\n",
       "      <th>enrgcons</th>\n",
       "      <th>area</th>\n",
       "      <th>age</th>\n",
       "      <th>numrooms</th>\n",
       "      <th>occrate</th>\n",
       "      <th>effrooms</th>\n",
       "    </tr>\n",
       "  </thead>\n",
       "  <tbody>\n",
       "    <tr>\n",
       "      <th>count</th>\n",
       "      <td>1.900000e+01</td>\n",
       "      <td>19.000000</td>\n",
       "      <td>19.000000</td>\n",
       "      <td>19.000000</td>\n",
       "      <td>19.000000</td>\n",
       "      <td>19.000000</td>\n",
       "    </tr>\n",
       "    <tr>\n",
       "      <th>mean</th>\n",
       "      <td>6.848632e+06</td>\n",
       "      <td>46383.473684</td>\n",
       "      <td>7.789474</td>\n",
       "      <td>376.789474</td>\n",
       "      <td>61.571053</td>\n",
       "      <td>229.052632</td>\n",
       "    </tr>\n",
       "    <tr>\n",
       "      <th>std</th>\n",
       "      <td>4.283995e+06</td>\n",
       "      <td>23644.701538</td>\n",
       "      <td>3.881279</td>\n",
       "      <td>148.210278</td>\n",
       "      <td>13.139886</td>\n",
       "      <td>94.144893</td>\n",
       "    </tr>\n",
       "    <tr>\n",
       "      <th>min</th>\n",
       "      <td>1.045555e+06</td>\n",
       "      <td>19979.000000</td>\n",
       "      <td>3.000000</td>\n",
       "      <td>197.000000</td>\n",
       "      <td>32.600000</td>\n",
       "      <td>104.020000</td>\n",
       "    </tr>\n",
       "    <tr>\n",
       "      <th>25%</th>\n",
       "      <td>3.942819e+06</td>\n",
       "      <td>28501.000000</td>\n",
       "      <td>5.000000</td>\n",
       "      <td>247.500000</td>\n",
       "      <td>51.135000</td>\n",
       "      <td>157.880000</td>\n",
       "    </tr>\n",
       "    <tr>\n",
       "      <th>50%</th>\n",
       "      <td>5.558123e+06</td>\n",
       "      <td>45000.000000</td>\n",
       "      <td>6.000000</td>\n",
       "      <td>359.000000</td>\n",
       "      <td>63.510000</td>\n",
       "      <td>179.500000</td>\n",
       "    </tr>\n",
       "    <tr>\n",
       "      <th>75%</th>\n",
       "      <td>9.748722e+06</td>\n",
       "      <td>55117.000000</td>\n",
       "      <td>11.000000</td>\n",
       "      <td>464.500000</td>\n",
       "      <td>68.135000</td>\n",
       "      <td>308.325000</td>\n",
       "    </tr>\n",
       "    <tr>\n",
       "      <th>max</th>\n",
       "      <td>1.483743e+07</td>\n",
       "      <td>112200.000000</td>\n",
       "      <td>16.000000</td>\n",
       "      <td>787.000000</td>\n",
       "      <td>94.080000</td>\n",
       "      <td>391.370000</td>\n",
       "    </tr>\n",
       "  </tbody>\n",
       "</table>\n",
       "</div>"
      ],
      "text/plain": [
       "           enrgcons           area        age    numrooms    occrate  \\\n",
       "count  1.900000e+01      19.000000  19.000000   19.000000  19.000000   \n",
       "mean   6.848632e+06   46383.473684   7.789474  376.789474  61.571053   \n",
       "std    4.283995e+06   23644.701538   3.881279  148.210278  13.139886   \n",
       "min    1.045555e+06   19979.000000   3.000000  197.000000  32.600000   \n",
       "25%    3.942819e+06   28501.000000   5.000000  247.500000  51.135000   \n",
       "50%    5.558123e+06   45000.000000   6.000000  359.000000  63.510000   \n",
       "75%    9.748722e+06   55117.000000  11.000000  464.500000  68.135000   \n",
       "max    1.483743e+07  112200.000000  16.000000  787.000000  94.080000   \n",
       "\n",
       "         effrooms  \n",
       "count   19.000000  \n",
       "mean   229.052632  \n",
       "std     94.144893  \n",
       "min    104.020000  \n",
       "25%    157.880000  \n",
       "50%    179.500000  \n",
       "75%    308.325000  \n",
       "max    391.370000  "
      ]
     },
     "execution_count": 41,
     "metadata": {},
     "output_type": "execute_result"
    }
   ],
   "source": [
    "energy_consumption.describe()"
   ]
  },
  {
   "cell_type": "code",
   "execution_count": 42,
   "metadata": {},
   "outputs": [
    {
     "data": {
      "text/plain": [
       "<matplotlib.collections.PathCollection at 0x1ce605eeb38>"
      ]
     },
     "execution_count": 42,
     "metadata": {},
     "output_type": "execute_result"
    },
    {
     "data": {
      "image/png": "[encoded data removed]",
      "text/plain": [
       "<Figure size 432x288 with 1 Axes>"
      ]
     },
     "metadata": {
      "needs_background": "light"
     },
     "output_type": "display_data"
    }
   ],
   "source": [
    "plt.scatter(energy_consumption['area'],energy_consumption['enrgcons'])"
   ]
  },
  {
   "cell_type": "code",
   "execution_count": 43,
   "metadata": {},
   "outputs": [
    {
     "data": {
      "text/plain": [
       "<seaborn.axisgrid.PairGrid at 0x1ce60548518>"
      ]
     },
     "execution_count": 43,
     "metadata": {},
     "output_type": "execute_result"
    },
    {
     "data": {
      "image/png": "[encoded data removed]",
      "text/plain": [
       "<Figure size 1080x1080 with 42 Axes>"
      ]
     },
     "metadata": {
      "needs_background": "light"
     },
     "output_type": "display_data"
    }
   ],
   "source": [
    "sns.pairplot(energy_consumption)"
   ]
  },
  {
   "cell_type": "code",
   "execution_count": 44,
   "metadata": {},
   "outputs": [
    {
     "data": {
      "text/html": [
       "<div>\n",
       "<style scoped>\n",
       "    .dataframe tbody tr th:only-of-type {\n",
       "        vertical-align: middle;\n",
       "    }\n",
       "\n",
       "    .dataframe tbody tr th {\n",
       "        vertical-align: top;\n",
       "    }\n",
       "\n",
       "    .dataframe thead th {\n",
       "        text-align: right;\n",
       "    }\n",
       "</style>\n",
       "<table border=\"1\" class=\"dataframe\">\n",
       "  <thead>\n",
       "    <tr style=\"text-align: right;\">\n",
       "      <th></th>\n",
       "      <th>enrgcons</th>\n",
       "      <th>area</th>\n",
       "      <th>age</th>\n",
       "      <th>numrooms</th>\n",
       "      <th>occrate</th>\n",
       "      <th>effrooms</th>\n",
       "    </tr>\n",
       "  </thead>\n",
       "  <tbody>\n",
       "    <tr>\n",
       "      <th>enrgcons</th>\n",
       "      <td>1.000000</td>\n",
       "      <td>0.878962</td>\n",
       "      <td>-0.099420</td>\n",
       "      <td>0.685091</td>\n",
       "      <td>0.031184</td>\n",
       "      <td>0.656769</td>\n",
       "    </tr>\n",
       "    <tr>\n",
       "      <th>area</th>\n",
       "      <td>0.878962</td>\n",
       "      <td>1.000000</td>\n",
       "      <td>-0.238941</td>\n",
       "      <td>0.852962</td>\n",
       "      <td>-0.210223</td>\n",
       "      <td>0.651138</td>\n",
       "    </tr>\n",
       "    <tr>\n",
       "      <th>age</th>\n",
       "      <td>-0.099420</td>\n",
       "      <td>-0.238941</td>\n",
       "      <td>1.000000</td>\n",
       "      <td>-0.275326</td>\n",
       "      <td>0.401544</td>\n",
       "      <td>-0.045080</td>\n",
       "    </tr>\n",
       "    <tr>\n",
       "      <th>numrooms</th>\n",
       "      <td>0.685091</td>\n",
       "      <td>0.852962</td>\n",
       "      <td>-0.275326</td>\n",
       "      <td>1.000000</td>\n",
       "      <td>-0.159418</td>\n",
       "      <td>0.826038</td>\n",
       "    </tr>\n",
       "    <tr>\n",
       "      <th>occrate</th>\n",
       "      <td>0.031184</td>\n",
       "      <td>-0.210223</td>\n",
       "      <td>0.401544</td>\n",
       "      <td>-0.159418</td>\n",
       "      <td>1.000000</td>\n",
       "      <td>0.405200</td>\n",
       "    </tr>\n",
       "    <tr>\n",
       "      <th>effrooms</th>\n",
       "      <td>0.656769</td>\n",
       "      <td>0.651138</td>\n",
       "      <td>-0.045080</td>\n",
       "      <td>0.826038</td>\n",
       "      <td>0.405200</td>\n",
       "      <td>1.000000</td>\n",
       "    </tr>\n",
       "  </tbody>\n",
       "</table>\n",
       "</div>"
      ],
      "text/plain": [
       "          enrgcons      area       age  numrooms   occrate  effrooms\n",
       "enrgcons  1.000000  0.878962 -0.099420  0.685091  0.031184  0.656769\n",
       "area      0.878962  1.000000 -0.238941  0.852962 -0.210223  0.651138\n",
       "age      -0.099420 -0.238941  1.000000 -0.275326  0.401544 -0.045080\n",
       "numrooms  0.685091  0.852962 -0.275326  1.000000 -0.159418  0.826038\n",
       "occrate   0.031184 -0.210223  0.401544 -0.159418  1.000000  0.405200\n",
       "effrooms  0.656769  0.651138 -0.045080  0.826038  0.405200  1.000000"
      ]
     },
     "execution_count": 44,
     "metadata": {},
     "output_type": "execute_result"
    }
   ],
   "source": [
    "energy_consumption.corr()"
   ]
  },
  {
   "cell_type": "code",
   "execution_count": 45,
   "metadata": {
    "collapsed": true
   },
   "outputs": [],
   "source": [
    "import scipy\n",
    "from scipy import stats"
   ]
  },
  {
   "cell_type": "code",
   "execution_count": 46,
   "metadata": {
    "collapsed": true
   },
   "outputs": [],
   "source": [
    "# Partitioning the data"
   ]
  },
  {
   "cell_type": "code",
   "execution_count": 53,
   "metadata": {
    "collapsed": true
   },
   "outputs": [],
   "source": [
    "X = energy_consumption.loc[:,['area','numrooms','effrooms']].values"
   ]
  },
  {
   "cell_type": "code",
   "execution_count": 61,
   "metadata": {
    "collapsed": true
   },
   "outputs": [],
   "source": [
    "y = energy_consumption.loc[:,'enrgcons'].values"
   ]
  },
  {
   "cell_type": "code",
   "execution_count": 62,
   "metadata": {},
   "outputs": [
    {
     "data": {
      "text/plain": [
       "(array([[4.3000e+04, 4.2000e+02, 1.3692e+02],\n",
       "        [1.9979e+04, 2.1500e+02, 1.3545e+02],\n",
       "        [4.6529e+04, 2.7300e+02, 1.7759e+02],\n",
       "        [2.0962e+04, 2.2200e+02, 1.5651e+02],\n",
       "        [2.4212e+04, 4.7400e+02, 3.3038e+02],\n",
       "        [1.1220e+05, 7.8700e+02, 3.8539e+02],\n",
       "        [4.5000e+04, 3.2500e+02, 1.5925e+02],\n",
       "        [2.8548e+04, 1.9900e+02, 1.0402e+02],\n",
       "        [3.2865e+04, 3.5900e+02, 1.7950e+02],\n",
       "        [5.9406e+04, 5.0300e+02, 2.9003e+02],\n",
       "        [4.5000e+04, 4.1600e+02, 3.9137e+02],\n",
       "        [3.7435e+04, 4.1800e+02, 2.8717e+02],\n",
       "        [5.0828e+04, 3.4700e+02, 1.7003e+02],\n",
       "        [6.8000e+04, 4.5500e+02, 2.9211e+02],\n",
       "        [7.8868e+04, 5.1100e+02, 3.2454e+02],\n",
       "        [2.8454e+04, 2.1900e+02, 1.6762e+02],\n",
       "        [7.0000e+04, 5.0100e+02, 3.3853e+02],\n",
       "        [2.0000e+04, 1.9700e+02, 1.3002e+02],\n",
       "        [5.0000e+04, 3.1800e+02, 1.9557e+02]]),\n",
       " array([ 1953916.,  1045555.,  4245313.,  2126199.,  2785958., 13833968.,\n",
       "         5558123.,  4001213.,  4669758.,  8924035.,  6865534.,  6014590.,\n",
       "         8185738., 11736136., 14837426.,  5366490., 13516215.,  3884425.,\n",
       "        10573409.]))"
      ]
     },
     "execution_count": 62,
     "metadata": {},
     "output_type": "execute_result"
    }
   ],
   "source": [
    "X,y"
   ]
  },
  {
   "cell_type": "code",
   "execution_count": 63,
   "metadata": {
    "collapsed": true
   },
   "outputs": [],
   "source": [
    "from sklearn.model_selection import train_test_split\n",
    "X_train, X_test, y_train, y_test = train_test_split(X, y, test_size = 0.2, random_state = 0)"
   ]
  },
  {
   "cell_type": "code",
   "execution_count": 64,
   "metadata": {},
   "outputs": [
    {
     "data": {
      "text/plain": [
       "(array([[7.8868e+04, 5.1100e+02, 3.2454e+02],\n",
       "        [7.0000e+04, 5.0100e+02, 3.3853e+02],\n",
       "        [4.5000e+04, 3.2500e+02, 1.5925e+02],\n",
       "        [2.4212e+04, 4.7400e+02, 3.3038e+02],\n",
       "        [4.6529e+04, 2.7300e+02, 1.7759e+02],\n",
       "        [1.1220e+05, 7.8700e+02, 3.8539e+02],\n",
       "        [6.8000e+04, 4.5500e+02, 2.9211e+02],\n",
       "        [5.9406e+04, 5.0300e+02, 2.9003e+02],\n",
       "        [2.8548e+04, 1.9900e+02, 1.0402e+02],\n",
       "        [2.0000e+04, 1.9700e+02, 1.3002e+02],\n",
       "        [3.7435e+04, 4.1800e+02, 2.8717e+02],\n",
       "        [2.0962e+04, 2.2200e+02, 1.5651e+02],\n",
       "        [4.3000e+04, 4.2000e+02, 1.3692e+02],\n",
       "        [2.8454e+04, 2.1900e+02, 1.6762e+02],\n",
       "        [5.0828e+04, 3.4700e+02, 1.7003e+02]]),\n",
       " array([[45000.  ,   416.  ,   391.37],\n",
       "        [19979.  ,   215.  ,   135.45],\n",
       "        [32865.  ,   359.  ,   179.5 ],\n",
       "        [50000.  ,   318.  ,   195.57]]),\n",
       " array([14837426., 13516215.,  5558123.,  2785958.,  4245313., 13833968.,\n",
       "        11736136.,  8924035.,  4001213.,  3884425.,  6014590.,  2126199.,\n",
       "         1953916.,  5366490.,  8185738.]),\n",
       " array([ 6865534.,  1045555.,  4669758., 10573409.]))"
      ]
     },
     "execution_count": 64,
     "metadata": {},
     "output_type": "execute_result"
    }
   ],
   "source": [
    "X_train, X_test, y_train, y_test"
   ]
  },
  {
   "cell_type": "code",
   "execution_count": 65,
   "metadata": {
    "collapsed": true
   },
   "outputs": [],
   "source": [
    "# Building Regression Equation"
   ]
  },
  {
   "cell_type": "code",
   "execution_count": 66,
   "metadata": {
    "collapsed": true
   },
   "outputs": [],
   "source": [
    "from sklearn.linear_model import LinearRegression"
   ]
  },
  {
   "cell_type": "code",
   "execution_count": 67,
   "metadata": {
    "collapsed": true
   },
   "outputs": [],
   "source": [
    "Regression_Model = LinearRegression()"
   ]
  },
  {
   "cell_type": "code",
   "execution_count": 68,
   "metadata": {},
   "outputs": [
    {
     "data": {
      "text/plain": [
       "LinearRegression(copy_X=True, fit_intercept=True, n_jobs=None,\n",
       "         normalize=False)"
      ]
     },
     "execution_count": 68,
     "metadata": {},
     "output_type": "execute_result"
    }
   ],
   "source": [
    "Regression_Model.fit(X_train,y_train)"
   ]
  },
  {
   "cell_type": "code",
   "execution_count": 69,
   "metadata": {
    "collapsed": true
   },
   "outputs": [],
   "source": [
    "# Predicting the Test set results\n",
    "y_predict = Regression_Model.predict(X_test)"
   ]
  },
  {
   "cell_type": "code",
   "execution_count": 70,
   "metadata": {},
   "outputs": [
    {
     "data": {
      "text/plain": [
       "array([11407067.50847816,  2454053.0945477 ,  2833621.52765768,\n",
       "        8063162.80404364])"
      ]
     },
     "execution_count": 70,
     "metadata": {},
     "output_type": "execute_result"
    }
   ],
   "source": [
    "y_predict"
   ]
  },
  {
   "cell_type": "code",
   "execution_count": 72,
   "metadata": {
    "collapsed": true
   },
   "outputs": [],
   "source": [
    "#Regression Diagnostics"
   ]
  },
  {
   "cell_type": "code",
   "execution_count": 73,
   "metadata": {
    "collapsed": true
   },
   "outputs": [],
   "source": [
    "from sklearn.metrics import mean_squared_error, r2_score"
   ]
  },
  {
   "cell_type": "code",
   "execution_count": 74,
   "metadata": {},
   "outputs": [
    {
     "data": {
      "text/plain": [
       "array([   207.30098571, -26872.69476491,  35821.92911116])"
      ]
     },
     "execution_count": 74,
     "metadata": {},
     "output_type": "execute_result"
    }
   ],
   "source": [
    "Regression_Model.coef_"
   ]
  },
  {
   "cell_type": "code",
   "execution_count": 75,
   "metadata": {},
   "outputs": [
    {
     "data": {
      "text/plain": [
       "-762064.2226829333"
      ]
     },
     "execution_count": 75,
     "metadata": {},
     "output_type": "execute_result"
    }
   ],
   "source": [
    "Regression_Model.intercept_"
   ]
  },
  {
   "cell_type": "markdown",
   "metadata": {},
   "source": [
    "# Regression Equation is enrgcons = -762064.22 + 207.30 * area -26872.69 *numrooms + 35821.92 *effrooms'¶"
   ]
  },
  {
   "cell_type": "code",
   "execution_count": 76,
   "metadata": {
    "collapsed": true
   },
   "outputs": [],
   "source": [
    "# Rsquare values"
   ]
  },
  {
   "cell_type": "code",
   "execution_count": 77,
   "metadata": {},
   "outputs": [
    {
     "data": {
      "text/plain": [
       "0.9122646473846046"
      ]
     },
     "execution_count": 77,
     "metadata": {},
     "output_type": "execute_result"
    }
   ],
   "source": [
    "Regression_Model.score(X_train,y_train)"
   ]
  },
  {
   "cell_type": "code",
   "execution_count": 78,
   "metadata": {},
   "outputs": [
    {
     "data": {
      "text/plain": [
       "0.324676561120269"
      ]
     },
     "execution_count": 78,
     "metadata": {},
     "output_type": "execute_result"
    }
   ],
   "source": [
    "Regression_Model.score(X_test,y_test)"
   ]
  },
  {
   "cell_type": "code",
   "execution_count": 79,
   "metadata": {},
   "outputs": [
    {
     "data": {
      "text/plain": [
       "1.0"
      ]
     },
     "execution_count": 79,
     "metadata": {},
     "output_type": "execute_result"
    }
   ],
   "source": [
    "Regression_Model.score(X_test,y_predict)"
   ]
  },
  {
   "cell_type": "code",
   "execution_count": 80,
   "metadata": {},
   "outputs": [
    {
     "name": "stdout",
     "output_type": "stream",
     "text": [
      "Mean squared error: 8070531650088.38\n"
     ]
    }
   ],
   "source": [
    "print(\"Mean squared error: %.2f\"\n",
    "      % mean_squared_error(y_test, y_predict))"
   ]
  },
  {
   "cell_type": "code",
   "execution_count": 81,
   "metadata": {},
   "outputs": [
    {
     "name": "stdout",
     "output_type": "stream",
     "text": [
      "Variance score: 0.32\n"
     ]
    }
   ],
   "source": [
    "# Explained variance score: 1 is perfect prediction\n",
    "print('Variance score: %.2f' % r2_score(y_test, y_predict))"
   ]
  },
  {
   "cell_type": "code",
   "execution_count": 82,
   "metadata": {},
   "outputs": [
    {
     "data": {
      "text/plain": [
       "Text(0.5, 1.0, 'Comparision between Actual energy consumption & Predicted energy consumption')"
      ]
     },
     "execution_count": 82,
     "metadata": {},
     "output_type": "execute_result"
    },
    {
     "data": {
      "image/png": "[encoded data removed]",
      "text/plain": [
       "<Figure size 432x288 with 1 Axes>"
      ]
     },
     "metadata": {
      "needs_background": "light"
     },
     "output_type": "display_data"
    }
   ],
   "source": [
    "plt.scatter(y_test,y_predict)\n",
    "plt.xlabel(\"Actual energy consumption\")\n",
    "plt.ylabel(\"Predicted energy consumption\")\n",
    "plt.title(\"Comparision between Actual energy consumption & Predicted energy consumption\")"
   ]
  },
  {
   "cell_type": "code",
   "execution_count": 83,
   "metadata": {
    "collapsed": true
   },
   "outputs": [],
   "source": [
    "y_test\n",
    "y_predict\n",
    "#--------------------------------------\n",
    "y_test2 = pd.DataFrame(y_test)\n",
    "\n",
    "y_pred2 = pd.DataFrame(y_predict)\n",
    "#----------------------------------------\n",
    "y_test2.index = y_pred2.index\n",
    "\n",
    "result = pd.concat((y_test2,y_pred2),join = 'outer', axis=1)\n",
    "\n",
    "#result = pd.concat([df1, df4], axis=1, join_axes=[df1.index])\n",
    "Result = pd.concat([y_test2,y_pred2],axis=1, join_axes=[y_test2.index])"
   ]
  },
  {
   "cell_type": "code",
   "execution_count": 84,
   "metadata": {},
   "outputs": [
    {
     "data": {
      "text/html": [
       "<div>\n",
       "<style scoped>\n",
       "    .dataframe tbody tr th:only-of-type {\n",
       "        vertical-align: middle;\n",
       "    }\n",
       "\n",
       "    .dataframe tbody tr th {\n",
       "        vertical-align: top;\n",
       "    }\n",
       "\n",
       "    .dataframe thead th {\n",
       "        text-align: right;\n",
       "    }\n",
       "</style>\n",
       "<table border=\"1\" class=\"dataframe\">\n",
       "  <thead>\n",
       "    <tr style=\"text-align: right;\">\n",
       "      <th></th>\n",
       "      <th>0</th>\n",
       "      <th>0</th>\n",
       "    </tr>\n",
       "  </thead>\n",
       "  <tbody>\n",
       "    <tr>\n",
       "      <th>0</th>\n",
       "      <td>6865534.0</td>\n",
       "      <td>1.140707e+07</td>\n",
       "    </tr>\n",
       "    <tr>\n",
       "      <th>1</th>\n",
       "      <td>1045555.0</td>\n",
       "      <td>2.454053e+06</td>\n",
       "    </tr>\n",
       "    <tr>\n",
       "      <th>2</th>\n",
       "      <td>4669758.0</td>\n",
       "      <td>2.833622e+06</td>\n",
       "    </tr>\n",
       "    <tr>\n",
       "      <th>3</th>\n",
       "      <td>10573409.0</td>\n",
       "      <td>8.063163e+06</td>\n",
       "    </tr>\n",
       "  </tbody>\n",
       "</table>\n",
       "</div>"
      ],
      "text/plain": [
       "            0             0\n",
       "0   6865534.0  1.140707e+07\n",
       "1   1045555.0  2.454053e+06\n",
       "2   4669758.0  2.833622e+06\n",
       "3  10573409.0  8.063163e+06"
      ]
     },
     "execution_count": 84,
     "metadata": {},
     "output_type": "execute_result"
    }
   ],
   "source": [
    "Result"
   ]
  },
  {
   "cell_type": "code",
   "execution_count": null,
   "metadata": {
    "collapsed": true
   },
   "outputs": [],
   "source": []
  }
 ],
 "metadata": {
  "kernelspec": {
   "display_name": "Python 3",
   "language": "python",
   "name": "python3"
  },
  "language_info": {
   "codemirror_mode": {
    "name": "ipython",
    "version": 3
   },
   "file_extension": ".py",
   "mimetype": "text/x-python",
   "name": "python",
   "nbconvert_exporter": "python",
   "pygments_lexer": "ipython3",
   "version": "3.6.1"
  }
 },
 "nbformat": 4,
 "nbformat_minor": 2
}
